{
 "cells": [
  {
   "cell_type": "code",
   "execution_count": 21,
   "metadata": {},
   "outputs": [],
   "source": [
    "from PIL import Image\n",
    "import numpy as np\n",
    "\n",
    "def read_image(file_path):\n",
    "    # Open the image\n",
    "    img = Image.open(file_path)\n",
    "    \n",
    "    # Convert to grayscale for simplicity\n",
    "    img_gray = img.convert('L')\n",
    "    \n",
    "    # Convert to numpy array\n",
    "    img_array = np.array(img_gray)\n",
    "    \n",
    "    return img_array\n",
    "\n",
    "# Example usage\n",
    "img_data = read_image('lena.png')"
   ]
  },
  {
   "cell_type": "code",
   "execution_count": 22,
   "metadata": {},
   "outputs": [],
   "source": [
    "from collections import Counter\n",
    "\n",
    "def shannon_fano_coding(data):\n",
    "    # Count the frequency of each symbol\n",
    "    freq = Counter(data.flatten())\n",
    "    \n",
    "    # Sort symbols by frequency in descending order\n",
    "    sorted_symbols = sorted(freq.items(), key=lambda x: x[1], reverse=True)\n",
    "    \n",
    "    def divide_symbols(symbols):\n",
    "        if len(symbols) <= 1:\n",
    "            return {symbols[0][0]: '0'}\n",
    "        \n",
    "        total_freq = sum(freq for _, freq in symbols)\n",
    "        half_freq = total_freq / 2\n",
    "        \n",
    "        left, right = [], []\n",
    "        left_freq = 0\n",
    "        \n",
    "        for symbol, freq in symbols:\n",
    "            if left_freq < half_freq:\n",
    "                left.append((symbol, freq))\n",
    "                left_freq += freq\n",
    "            else:\n",
    "                right.append((symbol, freq))\n",
    "        \n",
    "        code = {}\n",
    "        code.update({symbol: '0' + bits for symbol, bits in divide_symbols(left).items()})\n",
    "        code.update({symbol: '1' + bits for symbol, bits in divide_symbols(right).items()})\n",
    "        \n",
    "        return code\n",
    "    \n",
    "    return divide_symbols(sorted_symbols)\n",
    "\n",
    "# Example usage\n",
    "shannon_fano_codes = shannon_fano_coding(img_data)"
   ]
  },
  {
   "cell_type": "code",
   "execution_count": 23,
   "metadata": {},
   "outputs": [],
   "source": [
    "import heapq\n",
    "\n",
    "class HuffmanNode:\n",
    "    def __init__(self, symbol, freq):\n",
    "        self.symbol = symbol\n",
    "        self.freq = freq\n",
    "        self.left = None\n",
    "        self.right = None\n",
    "    \n",
    "    def __lt__(self, other):\n",
    "        return self.freq < other.freq\n",
    "\n",
    "def huffman_coding(data):\n",
    "    # Count the frequency of each symbol\n",
    "    freq = Counter(data.flatten())\n",
    "    \n",
    "    # Create a priority queue of HuffmanNodes\n",
    "    heap = [HuffmanNode(symbol, f) for symbol, f in freq.items()]\n",
    "    heapq.heapify(heap)\n",
    "    \n",
    "    # Build the Huffman tree\n",
    "    while len(heap) > 1:\n",
    "        left = heapq.heappop(heap)\n",
    "        right = heapq.heappop(heap)\n",
    "        parent = HuffmanNode(None, left.freq + right.freq)\n",
    "        parent.left = left\n",
    "        parent.right = right\n",
    "        heapq.heappush(heap, parent)\n",
    "    \n",
    "    # Generate codes by traversing the tree\n",
    "    root = heap[0]\n",
    "    codes = {}\n",
    "    \n",
    "    def generate_codes(node, code=''):\n",
    "        if node.symbol is not None:\n",
    "            codes[node.symbol] = code\n",
    "        else:\n",
    "            generate_codes(node.left, code + '0')\n",
    "            generate_codes(node.right, code + '1')\n",
    "    \n",
    "    generate_codes(root)\n",
    "    return codes\n",
    "\n",
    "# Example usage\n",
    "huffman_codes = huffman_coding(img_data)"
   ]
  },
  {
   "cell_type": "code",
   "execution_count": 25,
   "metadata": {},
   "outputs": [],
   "source": [
    "import numpy as np\n",
    "from PIL import Image\n",
    "\n",
    "def decompress_data(compressed, codes):\n",
    "    # Create a reverse mapping of codes\n",
    "    reverse_codes = {code: symbol for symbol, code in codes.items()}\n",
    "    \n",
    "    decompressed = []\n",
    "    current_code = ''\n",
    "    for bit in compressed:\n",
    "        current_code += bit\n",
    "        if current_code in reverse_codes:\n",
    "            decompressed.append(reverse_codes[current_code])\n",
    "            current_code = ''\n",
    "    \n",
    "    return np.array(decompressed, dtype=np.uint8)\n",
    "\n",
    "def reconstruct_image(decompressed_data, original_shape):\n",
    "    # Reshape the decompressed data to the original image shape\n",
    "    reconstructed = decompressed_data.reshape(original_shape)\n",
    "    \n",
    "    # Convert numpy array to PIL Image\n",
    "    reconstructed_image = Image.fromarray(reconstructed)\n",
    "    \n",
    "    return reconstructed_image\n"
   ]
  },
  {
   "cell_type": "code",
   "execution_count": 24,
   "metadata": {},
   "outputs": [
    {
     "name": "stdout",
     "output_type": "stream",
     "text": [
      "Original size: 2097152 bits\n",
      "Shannon-Fano compressed size: 2230022 bits\n",
      "Huffman compressed size: 1957574 bits\n",
      "Shannon-Fano compression ratio: 0.94\n",
      "Huffman compression ratio: 1.07\n"
     ]
    }
   ],
   "source": [
    "def compress_image(data, coding_func):\n",
    "    codes = coding_func(data)\n",
    "    compressed = ''.join(codes[symbol] for symbol in data.flatten())\n",
    "    return compressed, codes\n",
    "\n",
    "# Compress using Shannon-Fano coding\n",
    "shannon_fano_compressed, shannon_fano_codes = compress_image(img_data, shannon_fano_coding)\n",
    "\n",
    "# Compress using Huffman coding\n",
    "huffman_compressed, huffman_codes = compress_image(img_data, huffman_coding)\n",
    "\n",
    "# Compare results\n",
    "original_size = img_data.size * img_data.itemsize * 8  # Size in bits\n",
    "shannon_fano_size = len(shannon_fano_compressed)\n",
    "huffman_size = len(huffman_compressed)\n",
    "\n",
    "print(f\"Original size: {original_size} bits\")\n",
    "print(f\"Shannon-Fano compressed size: {shannon_fano_size} bits\")\n",
    "print(f\"Huffman compressed size: {huffman_size} bits\")\n",
    "print(f\"Shannon-Fano compression ratio: {original_size / shannon_fano_size:.2f}\")\n",
    "print(f\"Huffman compression ratio: {original_size / huffman_size:.2f}\")"
   ]
  },
  {
   "cell_type": "code",
   "execution_count": 26,
   "metadata": {},
   "outputs": [
    {
     "name": "stdout",
     "output_type": "stream",
     "text": [
      "Opening \"/tmp/tmpoyq24d0j.PNG\" with ImageMagick (color depth=q16)  (image/png)\n",
      "Opening \"/tmp/tmp_v0_djge.PNG\" with ImageMagick (color depth=q16)  (image/png)\n"
     ]
    }
   ],
   "source": [
    "shannon_fano_decompressed = decompress_data(shannon_fano_compressed, shannon_fano_codes)\n",
    "shannon_fano_reconstructed = reconstruct_image(shannon_fano_decompressed, img_data.shape)\n",
    "\n",
    "# Decompress and reconstruct Huffman compressed image\n",
    "huffman_decompressed = decompress_data(huffman_compressed, huffman_codes)\n",
    "huffman_reconstructed = reconstruct_image(huffman_decompressed, img_data.shape)\n",
    "\n",
    "#displaying the decompressed images"
   ]
  },
  {
   "cell_type": "code",
   "execution_count": null,
   "metadata": {},
   "outputs": [],
   "source": []
  }
 ],
 "metadata": {
  "kernelspec": {
   "display_name": "dipenv",
   "language": "python",
   "name": "python3"
  },
  "language_info": {
   "codemirror_mode": {
    "name": "ipython",
    "version": 3
   },
   "file_extension": ".py",
   "mimetype": "text/x-python",
   "name": "python",
   "nbconvert_exporter": "python",
   "pygments_lexer": "ipython3",
   "version": "3.10.12"
  }
 },
 "nbformat": 4,
 "nbformat_minor": 2
}
