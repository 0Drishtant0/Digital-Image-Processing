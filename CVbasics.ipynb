{
 "cells": [
  {
   "cell_type": "code",
   "execution_count": 14,
   "metadata": {},
   "outputs": [],
   "source": [
    "import cv2\n",
    "import os\n",
    "import numpy as np"
   ]
  },
  {
   "cell_type": "code",
   "execution_count": 16,
   "metadata": {},
   "outputs": [],
   "source": [
    "# Reading an image\n",
    "image = cv2.imread('images/monkey.jpg')\n",
    "\n",
    "# Display the image\n",
    "cv2.imshow('Image', image)\n",
    "# Wait for a key press\n",
    "cv2.waitKey(0)\n",
    "\n",
    "# Separate the R, G, and B layers\n",
    "r, g, b = cv2.split(image)\n",
    "\n",
    "# Display the R layer with legend\n",
    "cv2.imshow('Red', r)\n",
    "cv2.putText(r, 'Red Layer', (10, 30), cv2.FONT_HERSHEY_SIMPLEX, 1, (255, 255, 255), 2)\n",
    "\n",
    "\n",
    "# Display the G layer with legend\n",
    "cv2.imshow('Green', g)\n",
    "cv2.putText(g, 'Green Layer', (10, 30), cv2.FONT_HERSHEY_SIMPLEX, 1, (255, 255, 255), 2)\n",
    "\n",
    "\n",
    "# Display the B layer with legend\n",
    "cv2.imshow('Blue', b)\n",
    "cv2.putText(b, 'Blue Layer', (10, 30), cv2.FONT_HERSHEY_SIMPLEX, 1, (255, 255, 255), 2)\n",
    "cv2.waitKey(0)\n",
    "\n",
    "# Close all image windows\n",
    "cv2.destroyAllWindows()\n"
   ]
  },
  {
   "cell_type": "code",
   "execution_count": 9,
   "metadata": {},
   "outputs": [
    {
     "data": {
      "text/plain": [
       "True"
      ]
     },
     "execution_count": 9,
     "metadata": {},
     "output_type": "execute_result"
    }
   ],
   "source": [
    "\n",
    "# Create the \"images/monkey_layers\" folder if it doesn't exist\n",
    "os.makedirs('images/monkey_layers', exist_ok=True)\n",
    "\n",
    "# Save the red, green, and blue layers as separate images\n",
    "cv2.imwrite('images/monkey_layers/red.jpg', r)\n",
    "cv2.imwrite('images/monkey_layers/green.jpg', g)\n",
    "cv2.imwrite('images/monkey_layers/blue.jpg', b)"
   ]
  },
  {
   "cell_type": "code",
   "execution_count": null,
   "metadata": {},
   "outputs": [],
   "source": [
    "\n",
    "# Convert the RGB layers to grayscale using different methods\n",
    "image = cv2.imread('images/monkey.jpg')\n",
    "r, g, b = cv2.split(image)\n",
    "\n",
    "\n",
    "lightness = (np.min(image, axis=2) + np.max(image, axis=2)) / 2\n",
    "average = (r + g + b) / 3\n",
    "# Luminosity method\n",
    "luminosity = 0.3 * r + 0.59 * g + 0.11 * b\n",
    "\n",
    "\n",
    "lightness = np.uint8(lightness)\n",
    "average = np.uint8(average)\n",
    "luminosity = np.uint8(luminosity)\n",
    "\n",
    "# Display the grayscale images\n",
    "cv2.imshow('Lightness', lightness)\n",
    "cv2.imshow('Average', average)\n",
    "cv2.imshow('Luminosity', luminosity)\n",
    "\n",
    "\n",
    "# Save the grayscale images\n",
    "os.makedirs('images/monkey_grayscale', exist_ok=True)\n",
    "cv2.imwrite('images/monkey_grayscale/lightness.jpg', lightness)\n",
    "cv2.imwrite('images/monkey_grayscale/average.jpg', average)\n",
    "cv2.imwrite('images/monkey_grayscale/luminosity.jpg', luminosity)\n",
    "\n",
    "\n",
    "cv2.waitKey(0)\n",
    "cv2.destroyAllWindows()\n",
    "\n"
   ]
  }
 ],
 "metadata": {
  "kernelspec": {
   "display_name": "dipenv",
   "language": "python",
   "name": "python3"
  },
  "language_info": {
   "codemirror_mode": {
    "name": "ipython",
    "version": 3
   },
   "file_extension": ".py",
   "mimetype": "text/x-python",
   "name": "python",
   "nbconvert_exporter": "python",
   "pygments_lexer": "ipython3",
   "version": "3.10.12"
  }
 },
 "nbformat": 4,
 "nbformat_minor": 2
}
